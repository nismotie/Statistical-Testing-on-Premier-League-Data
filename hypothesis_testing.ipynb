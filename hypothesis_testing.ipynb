{
 "cells": [
  {
   "cell_type": "markdown",
   "metadata": {},
   "source": [
    "<center><h2> Module 3 Project</h2></center>\n",
    "<center><h2> Hypothesis Testing</h2></center>\n",
    "\n",
    "**Authors:**"
   ]
  },
  {
   "cell_type": "markdown",
   "metadata": {},
   "source": [
    "#### Business Problem"
   ]
  },
  {
   "cell_type": "markdown",
   "metadata": {},
   "source": [
    "Is there a relationship between the age of a player and the minutes that the player plays?\n",
    "\n",
    "    * $H_0$: There is no relationship between a player's age and the minutes that a player plays in a season.\n",
    "    * $H_1$: A player is significantly more likely to play more minutes if they are older."
   ]
  },
  {
   "cell_type": "markdown",
   "metadata": {},
   "source": [
    "#### Analysis"
   ]
  },
  {
   "cell_type": "code",
   "execution_count": 248,
   "metadata": {
    "ExecuteTime": {
     "end_time": "2019-11-13T17:34:04.556578Z",
     "start_time": "2019-11-13T17:34:04.547339Z"
    }
   },
   "outputs": [],
   "source": [
    "import pandas as pd\n",
    "import json\n",
    "import matplotlib.pyplot as plt\n",
    "import seaborn as sns\n",
    "from scipy import stats \n",
    "import math\n",
    "import scipy.stats as stats\n",
    "from __future__ import print_function, division\n",
    "import functions\n",
    "import numpy as np"
   ]
  },
  {
   "cell_type": "code",
   "execution_count": 249,
   "metadata": {
    "ExecuteTime": {
     "end_time": "2019-11-13T17:34:04.577653Z",
     "start_time": "2019-11-13T17:34:04.559602Z"
    }
   },
   "outputs": [
    {
     "data": {
      "text/html": [
       "<div>\n",
       "<style scoped>\n",
       "    .dataframe tbody tr th:only-of-type {\n",
       "        vertical-align: middle;\n",
       "    }\n",
       "\n",
       "    .dataframe tbody tr th {\n",
       "        vertical-align: top;\n",
       "    }\n",
       "\n",
       "    .dataframe thead th {\n",
       "        text-align: right;\n",
       "    }\n",
       "</style>\n",
       "<table border=\"1\" class=\"dataframe\">\n",
       "  <thead>\n",
       "    <tr style=\"text-align: right;\">\n",
       "      <th></th>\n",
       "      <th>age</th>\n",
       "      <th>min_per_match</th>\n",
       "    </tr>\n",
       "  </thead>\n",
       "  <tbody>\n",
       "    <tr>\n",
       "      <th>0</th>\n",
       "      <td>28</td>\n",
       "      <td>90</td>\n",
       "    </tr>\n",
       "    <tr>\n",
       "      <th>1</th>\n",
       "      <td>29</td>\n",
       "      <td>74</td>\n",
       "    </tr>\n",
       "    <tr>\n",
       "      <th>2</th>\n",
       "      <td>25</td>\n",
       "      <td>87</td>\n",
       "    </tr>\n",
       "    <tr>\n",
       "      <th>3</th>\n",
       "      <td>24</td>\n",
       "      <td>89</td>\n",
       "    </tr>\n",
       "    <tr>\n",
       "      <th>4</th>\n",
       "      <td>25</td>\n",
       "      <td>53</td>\n",
       "    </tr>\n",
       "  </tbody>\n",
       "</table>\n",
       "</div>"
      ],
      "text/plain": [
       "   age  min_per_match\n",
       "0   28             90\n",
       "1   29             74\n",
       "2   25             87\n",
       "3   24             89\n",
       "4   25             53"
      ]
     },
     "execution_count": 249,
     "metadata": {},
     "output_type": "execute_result"
    }
   ],
   "source": [
    "age_min=pd.read_csv('football_players_age_and_minutes.csv')\n",
    "age_min.head()"
   ]
  },
  {
   "cell_type": "code",
   "execution_count": 250,
   "metadata": {
    "ExecuteTime": {
     "end_time": "2019-11-13T17:34:04.586062Z",
     "start_time": "2019-11-13T17:34:04.580943Z"
    }
   },
   "outputs": [],
   "source": [
    "age_mean=round(age_min['age'].mean(),0)"
   ]
  },
  {
   "cell_type": "code",
   "execution_count": 251,
   "metadata": {
    "ExecuteTime": {
     "end_time": "2019-11-13T17:34:04.609064Z",
     "start_time": "2019-11-13T17:34:04.592306Z"
    }
   },
   "outputs": [
    {
     "data": {
      "text/html": [
       "<div>\n",
       "<style scoped>\n",
       "    .dataframe tbody tr th:only-of-type {\n",
       "        vertical-align: middle;\n",
       "    }\n",
       "\n",
       "    .dataframe tbody tr th {\n",
       "        vertical-align: top;\n",
       "    }\n",
       "\n",
       "    .dataframe thead th {\n",
       "        text-align: right;\n",
       "    }\n",
       "</style>\n",
       "<table border=\"1\" class=\"dataframe\">\n",
       "  <thead>\n",
       "    <tr style=\"text-align: right;\">\n",
       "      <th></th>\n",
       "      <th>age</th>\n",
       "      <th>min_per_match</th>\n",
       "      <th>age_category</th>\n",
       "    </tr>\n",
       "  </thead>\n",
       "  <tbody>\n",
       "    <tr>\n",
       "      <th>0</th>\n",
       "      <td>28</td>\n",
       "      <td>90</td>\n",
       "      <td>1</td>\n",
       "    </tr>\n",
       "    <tr>\n",
       "      <th>1</th>\n",
       "      <td>29</td>\n",
       "      <td>74</td>\n",
       "      <td>1</td>\n",
       "    </tr>\n",
       "    <tr>\n",
       "      <th>2</th>\n",
       "      <td>25</td>\n",
       "      <td>87</td>\n",
       "      <td>0</td>\n",
       "    </tr>\n",
       "    <tr>\n",
       "      <th>3</th>\n",
       "      <td>24</td>\n",
       "      <td>89</td>\n",
       "      <td>0</td>\n",
       "    </tr>\n",
       "    <tr>\n",
       "      <th>4</th>\n",
       "      <td>25</td>\n",
       "      <td>53</td>\n",
       "      <td>0</td>\n",
       "    </tr>\n",
       "  </tbody>\n",
       "</table>\n",
       "</div>"
      ],
      "text/plain": [
       "   age  min_per_match  age_category\n",
       "0   28             90             1\n",
       "1   29             74             1\n",
       "2   25             87             0\n",
       "3   24             89             0\n",
       "4   25             53             0"
      ]
     },
     "execution_count": 251,
     "metadata": {},
     "output_type": "execute_result"
    }
   ],
   "source": [
    "age_min['age_category']=age_min['age'].apply(lambda x: 1 if x >= age_mean else 0 )\n",
    "age_min.head()"
   ]
  },
  {
   "cell_type": "code",
   "execution_count": 252,
   "metadata": {
    "ExecuteTime": {
     "end_time": "2019-11-13T17:34:04.623288Z",
     "start_time": "2019-11-13T17:34:04.612427Z"
    }
   },
   "outputs": [
    {
     "name": "stdout",
     "output_type": "stream",
     "text": [
      "284 216\n"
     ]
    }
   ],
   "source": [
    "old=age_min.loc[age_min['age_category']==1]\n",
    "young=age_min.loc[age_min['age_category']==0]\n",
    "print(len(old), len(young))"
   ]
  },
  {
   "cell_type": "code",
   "execution_count": 253,
   "metadata": {
    "ExecuteTime": {
     "end_time": "2019-11-13T17:34:04.638096Z",
     "start_time": "2019-11-13T17:34:04.626054Z"
    }
   },
   "outputs": [],
   "source": [
    "sample_old_min=sampling_selecting(old, 100, 'min_per_match')\n",
    "sample_young_min=sampling_selecting(young, 100, 'min_per_match')"
   ]
  },
  {
   "cell_type": "code",
   "execution_count": 254,
   "metadata": {
    "ExecuteTime": {
     "end_time": "2019-11-13T17:34:05.038396Z",
     "start_time": "2019-11-13T17:34:04.640435Z"
    }
   },
   "outputs": [
    {
     "name": "stderr",
     "output_type": "stream",
     "text": [
      "//anaconda3/envs/learn-env/lib/python3.6/site-packages/scipy/stats/stats.py:1713: FutureWarning: Using a non-tuple sequence for multidimensional indexing is deprecated; use `arr[tuple(seq)]` instead of `arr[seq]`. In the future this will be interpreted as an array index, `arr[np.array(seq)]`, which will result either in an error or a different result.\n",
      "  return np.add.reduce(sorted[indexer] * weights, axis=axis) / sumval\n"
     ]
    },
    {
     "data": {
      "text/plain": [
       "<matplotlib.axes._subplots.AxesSubplot at 0x1a195fbbe0>"
      ]
     },
     "execution_count": 254,
     "metadata": {},
     "output_type": "execute_result"
    },
    {
     "data": {
      "image/png": "[encoded data removed]",
      "text/plain": [
       "<Figure size 720x504 with 1 Axes>"
      ]
     },
     "metadata": {},
     "output_type": "display_data"
    }
   ],
   "source": [
    "sns.distplot(sample_old_min)\n",
    "sns.distplot(sample_young_min)"
   ]
  },
  {
   "cell_type": "code",
   "execution_count": 255,
   "metadata": {
    "ExecuteTime": {
     "end_time": "2019-11-13T17:34:05.049381Z",
     "start_time": "2019-11-13T17:34:05.043562Z"
    }
   },
   "outputs": [],
   "source": [
    "tt_results1=stats.ttest_ind(sample_old_min, sample_young_min)"
   ]
  },
  {
   "cell_type": "code",
   "execution_count": 256,
   "metadata": {
    "ExecuteTime": {
     "end_time": "2019-11-13T17:34:05.059326Z",
     "start_time": "2019-11-13T17:34:05.053568Z"
    }
   },
   "outputs": [],
   "source": [
    "t1 = tt_results1.statistic"
   ]
  },
  {
   "cell_type": "code",
   "execution_count": 257,
   "metadata": {
    "ExecuteTime": {
     "end_time": "2019-11-13T17:34:05.095416Z",
     "start_time": "2019-11-13T17:34:05.061644Z"
    }
   },
   "outputs": [
    {
     "ename": "NameError",
     "evalue": "name 'welch_dof' is not defined",
     "output_type": "error",
     "traceback": [
      "\u001b[0;31m---------------------------------------------------------------------------\u001b[0m",
      "\u001b[0;31mNameError\u001b[0m                                 Traceback (most recent call last)",
      "\u001b[0;32m<ipython-input-257-aeff40ae8e24>\u001b[0m in \u001b[0;36m<module>\u001b[0;34m()\u001b[0m\n\u001b[0;32m----> 1\u001b[0;31m \u001b[0mdf1\u001b[0m\u001b[0;34m=\u001b[0m\u001b[0mwelch_dof\u001b[0m\u001b[0;34m(\u001b[0m\u001b[0msample_young_min\u001b[0m\u001b[0;34m,\u001b[0m\u001b[0msample_old_min\u001b[0m\u001b[0;34m)\u001b[0m\u001b[0;34m\u001b[0m\u001b[0m\n\u001b[0m",
      "\u001b[0;31mNameError\u001b[0m: name 'welch_dof' is not defined"
     ]
    }
   ],
   "source": [
    "df1=welch_dof(sample_young_min,sample_old_min)"
   ]
  },
  {
   "cell_type": "code",
   "execution_count": null,
   "metadata": {
    "ExecuteTime": {
     "end_time": "2019-11-13T17:34:05.137355Z",
     "start_time": "2019-11-13T17:34:04.596Z"
    }
   },
   "outputs": [],
   "source": [
    "t_critical1=1.653"
   ]
  },
  {
   "cell_type": "code",
   "execution_count": null,
   "metadata": {
    "ExecuteTime": {
     "end_time": "2019-11-13T17:34:05.145359Z",
     "start_time": "2019-11-13T17:34:04.600Z"
    }
   },
   "outputs": [],
   "source": [
    "title='H2'"
   ]
  },
  {
   "cell_type": "code",
   "execution_count": null,
   "metadata": {
    "ExecuteTime": {
     "end_time": "2019-11-13T17:28:27.768853Z",
     "start_time": "2019-11-13T17:28:27.311Z"
    }
   },
   "outputs": [],
   "source": []
  },
  {
   "cell_type": "code",
   "execution_count": null,
   "metadata": {
    "ExecuteTime": {
     "end_time": "2019-11-13T17:34:05.149191Z",
     "start_time": "2019-11-13T17:34:04.610Z"
    }
   },
   "outputs": [],
   "source": [
    "make_t_dist(t1, t_critical1, df1, 'H2')"
   ]
  },
  {
   "cell_type": "code",
   "execution_count": null,
   "metadata": {
    "ExecuteTime": {
     "end_time": "2019-11-13T17:34:05.165219Z",
     "start_time": "2019-11-13T17:34:04.614Z"
    }
   },
   "outputs": [],
   "source": [
    "    x_size = np.linspace(-5, 5, 200)\n",
    "\n",
    "    y_size = stats.t.pdf(x_size, df1, 0, 1)\n",
    "\n",
    "    fig = plt.figure(figsize=(8,5))\n",
    "\n",
    "    ax = fig.gca()\n",
    "\n",
    "    ax.plot(x_size, y_size, linewidth=3, color='darkblue')\n",
    "\n",
    "    # plot a vertical line for our measured difference in rates t-statistic\n",
    "    ax.axvline(t1, color='yellow', linestyle='--', lw=2,label='t-statistic')\n",
    "    ax.axvline(t_critical1, color='purple', linestyle='--', lw=2, label='critical t-value')\n",
    "    ax.fill_betweenx(y_size, x_size, t_critical1, where = x_size>t_critical1)\n",
    "    ax.legend()\n",
    "    plt.show()"
   ]
  },
  {
   "cell_type": "code",
   "execution_count": null,
   "metadata": {
    "ExecuteTime": {
     "end_time": "2019-11-13T17:34:05.170323Z",
     "start_time": "2019-11-13T17:34:04.617Z"
    }
   },
   "outputs": [],
   "source": [
    "def Cohen_d(group1, group2):\n",
    "\n",
    "    # Compute Cohen's d.\n",
    "\n",
    "    diff = group1.mean() - group2.mean()\n",
    "\n",
    "    n1, n2 = len(group1), len(group2)\n",
    "    var1 = group1.var()\n",
    "    var2 = group2.var()\n",
    "\n",
    "    # Calculate the pooled threshold as shown earlier\n",
    "    pooled_var = (n1 * var1 + n2 * var2) / (n1 + n2)\n",
    "    \n",
    "    # Calculate Cohen's d statistic\n",
    "    d = diff / np.sqrt(pooled_var)\n",
    "    \n",
    "    return d"
   ]
  },
  {
   "cell_type": "code",
   "execution_count": null,
   "metadata": {
    "ExecuteTime": {
     "end_time": "2019-11-13T17:34:05.173582Z",
     "start_time": "2019-11-13T17:34:04.623Z"
    }
   },
   "outputs": [],
   "source": [
    "Cohen_d(sample_old_min, sample_young_min)"
   ]
  },
  {
   "cell_type": "code",
   "execution_count": null,
   "metadata": {},
   "outputs": [],
   "source": []
  },
  {
   "cell_type": "code",
   "execution_count": null,
   "metadata": {},
   "outputs": [],
   "source": []
  },
  {
   "cell_type": "code",
   "execution_count": null,
   "metadata": {},
   "outputs": [],
   "source": []
  },
  {
   "cell_type": "code",
   "execution_count": null,
   "metadata": {},
   "outputs": [],
   "source": []
  },
  {
   "cell_type": "code",
   "execution_count": null,
   "metadata": {
    "ExecuteTime": {
     "end_time": "2019-11-13T17:34:05.179204Z",
     "start_time": "2019-11-13T17:34:04.642Z"
    }
   },
   "outputs": [],
   "source": [
    "national_performance=pd.read_csv('football_players_by_nationality_and_goals.csv')\n",
    "national_performance.head()"
   ]
  },
  {
   "cell_type": "code",
   "execution_count": null,
   "metadata": {
    "ExecuteTime": {
     "end_time": "2019-11-13T17:34:05.185926Z",
     "start_time": "2019-11-13T17:34:04.646Z"
    }
   },
   "outputs": [],
   "source": [
    "national=national_performance.loc[national_performance['nationality']=='England']\n",
    "national_pos=national.loc[(national['position']=='Midfielder')|(national['position']=='Forward')]\n",
    "foreign=national_performance.loc[national_performance['nationality']!='England']\n",
    "foreign_pos=foreign.loc[(foreign['position']=='Midfielder')|(foreign['position']=='Forward')]"
   ]
  },
  {
   "cell_type": "code",
   "execution_count": null,
   "metadata": {
    "ExecuteTime": {
     "end_time": "2019-11-13T17:34:05.188172Z",
     "start_time": "2019-11-13T17:34:04.651Z"
    }
   },
   "outputs": [],
   "source": [
    "print(len(national_pos), len(foreign_pos))"
   ]
  },
  {
   "cell_type": "code",
   "execution_count": null,
   "metadata": {
    "ExecuteTime": {
     "end_time": "2019-11-13T17:34:05.192097Z",
     "start_time": "2019-11-13T17:34:04.655Z"
    }
   },
   "outputs": [],
   "source": [
    "sample_nat_goals=sampling_selecting(national_pos, 60, 'goals_overall')\n",
    "sample_for_goals=sampling_selecting(national_pos, 60, 'goals_overall')"
   ]
  },
  {
   "cell_type": "code",
   "execution_count": null,
   "metadata": {
    "ExecuteTime": {
     "end_time": "2019-11-13T17:34:05.194318Z",
     "start_time": "2019-11-13T17:34:04.660Z"
    }
   },
   "outputs": [],
   "source": [
    "sns.set(color_codes=True)\n",
    "sns.set(rc={'figure.figsize':(10,7)})\n",
    "sns.distplot(sample_nat_goals)\n",
    "sns.distplot(sample_for_goals) "
   ]
  },
  {
   "cell_type": "code",
   "execution_count": null,
   "metadata": {
    "ExecuteTime": {
     "end_time": "2019-11-13T17:34:05.199808Z",
     "start_time": "2019-11-13T17:34:04.663Z"
    }
   },
   "outputs": [],
   "source": [
    "tt_results = stats.ttest_ind(sample_nat_goals, sample_for_goals, equal_var=False)"
   ]
  },
  {
   "cell_type": "code",
   "execution_count": null,
   "metadata": {
    "ExecuteTime": {
     "end_time": "2019-11-13T17:34:05.205532Z",
     "start_time": "2019-11-13T17:34:04.668Z"
    }
   },
   "outputs": [],
   "source": [
    "t = tt_results.statistic"
   ]
  },
  {
   "cell_type": "code",
   "execution_count": null,
   "metadata": {
    "ExecuteTime": {
     "end_time": "2019-11-13T17:34:05.208552Z",
     "start_time": "2019-11-13T17:34:04.673Z"
    }
   },
   "outputs": [],
   "source": [
    "df = welch_dof(sample_nat_goals,sample_for_goals)"
   ]
  },
  {
   "cell_type": "code",
   "execution_count": null,
   "metadata": {
    "ExecuteTime": {
     "end_time": "2019-11-13T17:34:05.210123Z",
     "start_time": "2019-11-13T17:34:04.677Z"
    }
   },
   "outputs": [],
   "source": [
    "t_critical = 1.658"
   ]
  },
  {
   "cell_type": "code",
   "execution_count": null,
   "metadata": {
    "ExecuteTime": {
     "end_time": "2019-11-13T17:34:05.213594Z",
     "start_time": "2019-11-13T17:34:04.680Z"
    }
   },
   "outputs": [],
   "source": [
    "x_size = np.linspace(-5, 5, 200)\n",
    "\n",
    "y_size = stats.t.pdf(x_size, df, 0, 1)\n",
    "\n",
    "fig = plt.figure(figsize=(8,5))\n",
    "\n",
    "ax = fig.gca()\n",
    "\n",
    "ax.plot(x_size, y_size, linewidth=3, color='darkblue')\n",
    "\n",
    "# plot a vertical line for our measured difference in rates t-statistic\n",
    "ax.axvline(t, color='yellow', linestyle='--', lw=2,label='t-statistic')\n",
    "ax.axvline(t_critical, color='purple', linestyle='--', lw=2, label='critical t-value')\n",
    "ax.fill_betweenx(y_size, x_size, t_critical, where = x_size>t_critical)\n",
    "ax.legend()\n",
    "plt.show()"
   ]
  },
  {
   "cell_type": "code",
   "execution_count": null,
   "metadata": {
    "ExecuteTime": {
     "end_time": "2019-11-13T17:34:05.216386Z",
     "start_time": "2019-11-13T17:34:04.684Z"
    }
   },
   "outputs": [],
   "source": [
    "Cohen_d(sample_for_goals, sample_nat_goals)"
   ]
  },
  {
   "cell_type": "code",
   "execution_count": null,
   "metadata": {},
   "outputs": [],
   "source": []
  },
  {
   "cell_type": "markdown",
   "metadata": {},
   "source": [
    "#### Findings & Application"
   ]
  },
  {
   "cell_type": "code",
   "execution_count": null,
   "metadata": {
    "ExecuteTime": {
     "end_time": "2019-11-12T17:18:43.788576Z",
     "start_time": "2019-11-12T17:18:43.779189Z"
    }
   },
   "outputs": [],
   "source": []
  },
  {
   "cell_type": "markdown",
   "metadata": {},
   "source": [
    "#### Limitations"
   ]
  },
  {
   "cell_type": "code",
   "execution_count": null,
   "metadata": {},
   "outputs": [],
   "source": []
  },
  {
   "cell_type": "markdown",
   "metadata": {},
   "source": [
    "#### Next Steps"
   ]
  },
  {
   "cell_type": "code",
   "execution_count": null,
   "metadata": {},
   "outputs": [],
   "source": []
  }
 ],
 "metadata": {
  "kernelspec": {
   "display_name": "Python [conda env:learn-env] *",
   "language": "python",
   "name": "conda-env-learn-env-py"
  },
  "language_info": {
   "codemirror_mode": {
    "name": "ipython",
    "version": 3
   },
   "file_extension": ".py",
   "mimetype": "text/x-python",
   "name": "python",
   "nbconvert_exporter": "python",
   "pygments_lexer": "ipython3",
   "version": "3.6.6"
  },
  "toc": {
   "base_numbering": 1,
   "nav_menu": {},
   "number_sections": true,
   "sideBar": true,
   "skip_h1_title": false,
   "title_cell": "Table of Contents",
   "title_sidebar": "Contents",
   "toc_cell": false,
   "toc_position": {},
   "toc_section_display": true,
   "toc_window_display": false
  },
  "varInspector": {
   "cols": {
    "lenName": 16,
    "lenType": 16,
    "lenVar": 40
   },
   "kernels_config": {
    "python": {
     "delete_cmd_postfix": "",
     "delete_cmd_prefix": "del ",
     "library": "var_list.py",
     "varRefreshCmd": "print(var_dic_list())"
    },
    "r": {
     "delete_cmd_postfix": ") ",
     "delete_cmd_prefix": "rm(",
     "library": "var_list.r",
     "varRefreshCmd": "cat(var_dic_list()) "
    }
   },
   "types_to_exclude": [
    "module",
    "function",
    "builtin_function_or_method",
    "instance",
    "_Feature"
   ],
   "window_display": false
  }
 },
 "nbformat": 4,
 "nbformat_minor": 2
}
