{
 "cells": [
  {
   "cell_type": "markdown",
   "metadata": {},
   "source": [
    "<center><h2> Module 3 Project</h2></center>\n",
    "<center><h2> Hypothesis Testing</h2></center>\n",
    "\n",
    "**Authors:** Titus Bridgwood, Itua Etiobhio, Inesa Lisnic"
   ]
  },
  {
   "cell_type": "markdown",
   "metadata": {},
   "source": [
    "## Context"
   ]
  },
  {
   "cell_type": "markdown",
   "metadata": {},
   "source": [
    "Imagine we are the data science team for a popular sports betting website, bet366. The management have asked us to find statistical grounding for some of the most common myths surrounding the results of football matches. In this document we will be examining four of these hypotheses and seeing whether the purported relationships exist or not. We will be looking at the 2018/2019 English Premier League season. "
   ]
  },
  {
   "cell_type": "markdown",
   "metadata": {},
   "source": [
    "## The Hypotheses"
   ]
  },
  {
   "cell_type": "markdown",
   "metadata": {},
   "source": [
    "1. Is a team more likely to win playing at home?\n",
    "    * $H_0$: There is no relationship between the team's home and away match performance.\n",
    "    * $H_1$: A team is significantly more likely to win if they play at home.\n",
    "    \n",
    "  \n",
    "2. Is there a relationship between the age of a player and the minutes that the player plays?\n",
    "    * $H_0$: There is no relationship between a player's age and the minutes that a player plays in a season.\n",
    "    * $H_1$: A player is significantly more likely to play more minutes if they are older.\n",
    "    \n",
    "\n",
    "3. If there are more cards in a game, are there more goals scored?\n",
    "    * $H_0$: There is no significant reltationship between the number of cards in a game and the number of goals scored. \n",
    "    * $H_1$: If there are more cards in a game, it is significantly more probable that there will be more goals.\n",
    "    \n",
    "\n",
    "\n",
    "4. If a foreign player more likely to score than an english player?\n",
    "    * $H_0$: A foreign player is no more likely to score more goals than an english player.\n",
    "    * $H_1$: A foreign player is more likely to score more goals than an english player.\n"
   ]
  },
  {
   "cell_type": "markdown",
   "metadata": {},
   "source": [
    "#### Analysis"
   ]
  },
  {
   "cell_type": "code",
   "execution_count": 74,
   "metadata": {
    "ExecuteTime": {
     "end_time": "2019-11-13T23:43:59.986455Z",
     "start_time": "2019-11-13T23:43:58.907707Z"
    }
   },
   "outputs": [
    {
     "name": "stdout",
     "output_type": "stream",
     "text": [
      "/Users/tiebridgwood/Documents/Coding/Flatiron_DSC/mod3project/functions.py\n"
     ]
    }
   ],
   "source": [
    "from __future__ import print_function, division # Importing the necessary libraries for our work. \n",
    "import numpy as np\n",
    "import pandas as pd\n",
    "import json\n",
    "import matplotlib.pyplot as plt\n",
    "import seaborn as sns \n",
    "import math\n",
    "import scipy.stats as stats\n",
    "from statsmodels.stats.power import TTestIndPower, TTestPower\n",
    "import functions as fn\n",
    "sns.set()\n",
    "\n",
    "\n"
   ]
  },
  {
   "cell_type": "code",
   "execution_count": 54,
   "metadata": {},
   "outputs": [],
   "source": [
    "%load_ext autoreload\n",
    "%autoreload 2"
   ]
  },
  {
   "cell_type": "markdown",
   "metadata": {},
   "source": [
    "## Hypothesis 1 - The home team advantage"
   ]
  },
  {
   "cell_type": "markdown",
   "metadata": {},
   "source": [
    "### Introduction to the hypothesis\n",
    "\n",
    "It is a widely held belief, and an intuitive fact that playing at home gives a team an advantage. Liverpool have recently gone undefeated at home for 46 consecutive games. However is there really a statistically significant relationship between playing at home and winning?"
   ]
  },
  {
   "cell_type": "markdown",
   "metadata": {},
   "source": [
    "### Choosing a significance level"
   ]
  },
  {
   "cell_type": "markdown",
   "metadata": {},
   "source": [
    "Our alpha or *α* for this hypothesis test, is set at a significance level of 0.05. This indicates a 5% risk of concluding that a difference exists when there is no actual difference. Alpha sets the standard for how extreme the data must be before we can reject the null hypothesis. Considering we are producing results for a betting site, we want to be fairly confident in rejecting the null hypothesis before we recommend any business actions on the part of Bet366. For this purpose an alpha level of 0.05 seems appropriate. If this hypothesis test results in a p-value of less than 0.05 then we will reject the null hypothesis. "
   ]
  },
  {
   "cell_type": "markdown",
   "metadata": {},
   "source": [
    "Using information pulled from APIs we have made new columns for binary values of home team wins and away team wins. "
   ]
  },
  {
   "cell_type": "code",
   "execution_count": 32,
   "metadata": {},
   "outputs": [],
   "source": [
    "hy1_df = pd.read_csv('Footytable.csv')"
   ]
  },
  {
   "cell_type": "code",
   "execution_count": 33,
   "metadata": {},
   "outputs": [
    {
     "data": {
      "text/html": [
       "<div>\n",
       "<style scoped>\n",
       "    .dataframe tbody tr th:only-of-type {\n",
       "        vertical-align: middle;\n",
       "    }\n",
       "\n",
       "    .dataframe tbody tr th {\n",
       "        vertical-align: top;\n",
       "    }\n",
       "\n",
       "    .dataframe thead th {\n",
       "        text-align: right;\n",
       "    }\n",
       "</style>\n",
       "<table border=\"1\" class=\"dataframe\">\n",
       "  <thead>\n",
       "    <tr style=\"text-align: right;\">\n",
       "      <th></th>\n",
       "      <th>Div</th>\n",
       "      <th>Date</th>\n",
       "      <th>HomeTeam</th>\n",
       "      <th>AwayTeam</th>\n",
       "      <th>FTHG</th>\n",
       "      <th>FTAG</th>\n",
       "      <th>FTR</th>\n",
       "      <th>HTHG</th>\n",
       "      <th>HTAG</th>\n",
       "      <th>HTR</th>\n",
       "      <th>...</th>\n",
       "      <th>BbMxAHH</th>\n",
       "      <th>BbAvAHH</th>\n",
       "      <th>BbMxAHA</th>\n",
       "      <th>BbAvAHA</th>\n",
       "      <th>PSCH</th>\n",
       "      <th>PSCD</th>\n",
       "      <th>PSCA</th>\n",
       "      <th>Total_goals</th>\n",
       "      <th>home_team_win</th>\n",
       "      <th>away_team_win</th>\n",
       "    </tr>\n",
       "  </thead>\n",
       "  <tbody>\n",
       "    <tr>\n",
       "      <th>0</th>\n",
       "      <td>E0</td>\n",
       "      <td>10/08/2018</td>\n",
       "      <td>Man United</td>\n",
       "      <td>Leicester</td>\n",
       "      <td>2</td>\n",
       "      <td>1</td>\n",
       "      <td>H</td>\n",
       "      <td>1</td>\n",
       "      <td>0</td>\n",
       "      <td>H</td>\n",
       "      <td>...</td>\n",
       "      <td>1.75</td>\n",
       "      <td>1.70</td>\n",
       "      <td>2.29</td>\n",
       "      <td>2.21</td>\n",
       "      <td>1.55</td>\n",
       "      <td>4.07</td>\n",
       "      <td>7.69</td>\n",
       "      <td>3</td>\n",
       "      <td>1</td>\n",
       "      <td>0</td>\n",
       "    </tr>\n",
       "    <tr>\n",
       "      <th>1</th>\n",
       "      <td>E0</td>\n",
       "      <td>11/08/2018</td>\n",
       "      <td>Bournemouth</td>\n",
       "      <td>Cardiff</td>\n",
       "      <td>2</td>\n",
       "      <td>0</td>\n",
       "      <td>H</td>\n",
       "      <td>1</td>\n",
       "      <td>0</td>\n",
       "      <td>H</td>\n",
       "      <td>...</td>\n",
       "      <td>2.20</td>\n",
       "      <td>2.13</td>\n",
       "      <td>1.80</td>\n",
       "      <td>1.75</td>\n",
       "      <td>1.88</td>\n",
       "      <td>3.61</td>\n",
       "      <td>4.70</td>\n",
       "      <td>2</td>\n",
       "      <td>1</td>\n",
       "      <td>0</td>\n",
       "    </tr>\n",
       "    <tr>\n",
       "      <th>2</th>\n",
       "      <td>E0</td>\n",
       "      <td>11/08/2018</td>\n",
       "      <td>Fulham</td>\n",
       "      <td>Crystal Palace</td>\n",
       "      <td>0</td>\n",
       "      <td>2</td>\n",
       "      <td>A</td>\n",
       "      <td>0</td>\n",
       "      <td>1</td>\n",
       "      <td>A</td>\n",
       "      <td>...</td>\n",
       "      <td>2.18</td>\n",
       "      <td>2.11</td>\n",
       "      <td>1.81</td>\n",
       "      <td>1.77</td>\n",
       "      <td>2.62</td>\n",
       "      <td>3.38</td>\n",
       "      <td>2.90</td>\n",
       "      <td>2</td>\n",
       "      <td>0</td>\n",
       "      <td>1</td>\n",
       "    </tr>\n",
       "    <tr>\n",
       "      <th>3</th>\n",
       "      <td>E0</td>\n",
       "      <td>11/08/2018</td>\n",
       "      <td>Huddersfield</td>\n",
       "      <td>Chelsea</td>\n",
       "      <td>0</td>\n",
       "      <td>3</td>\n",
       "      <td>A</td>\n",
       "      <td>0</td>\n",
       "      <td>2</td>\n",
       "      <td>A</td>\n",
       "      <td>...</td>\n",
       "      <td>1.84</td>\n",
       "      <td>1.80</td>\n",
       "      <td>2.13</td>\n",
       "      <td>2.06</td>\n",
       "      <td>7.24</td>\n",
       "      <td>3.95</td>\n",
       "      <td>1.58</td>\n",
       "      <td>3</td>\n",
       "      <td>0</td>\n",
       "      <td>1</td>\n",
       "    </tr>\n",
       "    <tr>\n",
       "      <th>4</th>\n",
       "      <td>E0</td>\n",
       "      <td>11/08/2018</td>\n",
       "      <td>Newcastle</td>\n",
       "      <td>Tottenham</td>\n",
       "      <td>1</td>\n",
       "      <td>2</td>\n",
       "      <td>A</td>\n",
       "      <td>1</td>\n",
       "      <td>2</td>\n",
       "      <td>A</td>\n",
       "      <td>...</td>\n",
       "      <td>2.20</td>\n",
       "      <td>2.12</td>\n",
       "      <td>1.80</td>\n",
       "      <td>1.76</td>\n",
       "      <td>4.74</td>\n",
       "      <td>3.53</td>\n",
       "      <td>1.89</td>\n",
       "      <td>3</td>\n",
       "      <td>0</td>\n",
       "      <td>1</td>\n",
       "    </tr>\n",
       "  </tbody>\n",
       "</table>\n",
       "<p>5 rows × 65 columns</p>\n",
       "</div>"
      ],
      "text/plain": [
       "  Div        Date      HomeTeam        AwayTeam  FTHG  FTAG FTR  HTHG  HTAG  \\\n",
       "0  E0  10/08/2018    Man United       Leicester     2     1   H     1     0   \n",
       "1  E0  11/08/2018   Bournemouth         Cardiff     2     0   H     1     0   \n",
       "2  E0  11/08/2018        Fulham  Crystal Palace     0     2   A     0     1   \n",
       "3  E0  11/08/2018  Huddersfield         Chelsea     0     3   A     0     2   \n",
       "4  E0  11/08/2018     Newcastle       Tottenham     1     2   A     1     2   \n",
       "\n",
       "  HTR  ... BbMxAHH  BbAvAHH  BbMxAHA  BbAvAHA  PSCH  PSCD  PSCA  Total_goals  \\\n",
       "0   H  ...    1.75     1.70     2.29     2.21  1.55  4.07  7.69            3   \n",
       "1   H  ...    2.20     2.13     1.80     1.75  1.88  3.61  4.70            2   \n",
       "2   A  ...    2.18     2.11     1.81     1.77  2.62  3.38  2.90            2   \n",
       "3   A  ...    1.84     1.80     2.13     2.06  7.24  3.95  1.58            3   \n",
       "4   A  ...    2.20     2.12     1.80     1.76  4.74  3.53  1.89            3   \n",
       "\n",
       "   home_team_win  away_team_win  \n",
       "0              1              0  \n",
       "1              1              0  \n",
       "2              0              1  \n",
       "3              0              1  \n",
       "4              0              1  \n",
       "\n",
       "[5 rows x 65 columns]"
      ]
     },
     "execution_count": 33,
     "metadata": {},
     "output_type": "execute_result"
    }
   ],
   "source": [
    "hy1_df.head()"
   ]
  },
  {
   "cell_type": "code",
   "execution_count": 84,
   "metadata": {},
   "outputs": [],
   "source": [
    "from hypothesis_tests import sampling"
   ]
  },
  {
   "cell_type": "code",
   "execution_count": 89,
   "metadata": {},
   "outputs": [],
   "source": [
    "random_home_sample= sampling(hy1_df, 100, 'home_team_win', 1)\n",
    "random_away_sample = sampling(hy1_df, 100, 'away_team_win', 1)"
   ]
  },
  {
   "cell_type": "code",
   "execution_count": 90,
   "metadata": {},
   "outputs": [],
   "source": [
    "def hist_sample(sample, title): # Function for making histograms. \n",
    "    plt.hist(sample)\n",
    "    plt.title(f\"Number of Sample {title}\")\n",
    "    plt.ylabel(\"Number of games\")"
   ]
  },
  {
   "cell_type": "code",
   "execution_count": 91,
   "metadata": {},
   "outputs": [
    {
     "data": {
      "image/png": "[encoded data removed]",
      "text/plain": [
       "<Figure size 432x288 with 1 Axes>"
      ]
     },
     "metadata": {},
     "output_type": "display_data"
    }
   ],
   "source": [
    "hist_sample(random_home_sample, 'Home Wins')"
   ]
  },
  {
   "cell_type": "code",
   "execution_count": 92,
   "metadata": {},
   "outputs": [
    {
     "data": {
      "image/png": "[encoded data removed]",
      "text/plain": [
       "<Figure size 432x288 with 1 Axes>"
      ]
     },
     "metadata": {},
     "output_type": "display_data"
    }
   ],
   "source": [
    "hist_sample(random_away_sample, 'Away Wins')"
   ]
  },
  {
   "cell_type": "markdown",
   "metadata": {},
   "source": [
    "We have created two distributions with 1 representing a win and 0 representing losses and draws. We will then be comparing these distributions using a Welch's T-Test."
   ]
  },
  {
   "cell_type": "code",
   "execution_count": 93,
   "metadata": {},
   "outputs": [
    {
     "name": "stdout",
     "output_type": "stream",
     "text": [
      "0.24910000000000007 0.20589999999999978\n"
     ]
    }
   ],
   "source": [
    "print(np.var(random_home_sample), np.var(random_away_sample))"
   ]
  },
  {
   "cell_type": "markdown",
   "metadata": {},
   "source": [
    "### Welch's T-Test"
   ]
  },
  {
   "cell_type": "markdown",
   "metadata": {},
   "source": [
    "For the analysis of statistical significance in this case we have used the Welch's T-Test. We have done so for the following reasons:\n",
    "\n",
    "* These are two disparate groups; we are not testing repeated performance for specific teams, but rather assessing the wins and losses for the league as a whole. \n",
    "* The variance between the two groups is not the same. The variance for the sample of home wins and losses is 0.245 whereas the variance for the sample of away wins and losses is 0.205. A Welch's T-Test is typically preferred when variances between samples are not equal\n",
    "* The Welch's T-Test is more robust. It is more capable of dealing with skewed distributions and binary distributions, such as the one we have here. \n",
    "    \n",
    "First we will calculate our T-statistic. Then we will calculate our ciritcal T-value as a threshold so that if the resultant T-statistic from our T-test is greater than this threshold we can reject our null hypothesis. "
   ]
  },
  {
   "cell_type": "code",
   "execution_count": 131,
   "metadata": {},
   "outputs": [
    {
     "data": {
      "text/plain": [
       "3.5401620376399805"
      ]
     },
     "execution_count": 131,
     "metadata": {},
     "output_type": "execute_result"
    }
   ],
   "source": [
    "hy1_test = stats.ttest_ind(random_home_sample, random_away_sample, equal_var=False) # With equal variance set to false Scipy's Independent T-Test defaults to a welch's T-Test\n",
    "hy1_t = hy1_test.statistic\n",
    "hy1_p = hy1_test.pvalue\n",
    "hy1_t"
   ]
  },
  {
   "cell_type": "markdown",
   "metadata": {},
   "source": [
    "So our t-statistic is 3.236, but without a critical T-value this doesn't mean very much. Now we have to calculate our critical T-value, and in order to do so we must first calculate the degrees of freedom for our samples. Calculating the degrees of freedom for a Welch's T-test we have to use the Welch-Satterthwaite equation in order to account for the unequal variances; we have made a function for this. "
   ]
  },
  {
   "cell_type": "code",
   "execution_count": 95,
   "metadata": {},
   "outputs": [],
   "source": [
    "from hypothesis_tests import welch_dof"
   ]
  },
  {
   "cell_type": "code",
   "execution_count": 96,
   "metadata": {},
   "outputs": [
    {
     "data": {
      "text/plain": [
       "196.23106263335885"
      ]
     },
     "execution_count": 96,
     "metadata": {},
     "output_type": "execute_result"
    }
   ],
   "source": [
    "hy1_dof = welch_dof(random_home_sample, random_away_sample) # Getting our W-S Degrees of freedom\n",
    "hy1_dof"
   ]
  },
  {
   "cell_type": "code",
   "execution_count": 97,
   "metadata": {},
   "outputs": [
    {
     "data": {
      "text/plain": [
       "1.653"
      ]
     },
     "execution_count": 97,
     "metadata": {},
     "output_type": "execute_result"
    }
   ],
   "source": [
    "hy1_t_crit = np.round(stats.t.ppf(1-0.05, df=hy1_dof), 3) # Using our degrees of freedom to calculate our critical T-value\n",
    "hy1_t_crit"
   ]
  },
  {
   "cell_type": "markdown",
   "metadata": {},
   "source": [
    "We can already see that our T-statistic has crossed the critical threshold, but a visualisation will make this clearer. As we will be relying on the T-test as our primary hypothesis test across our hypotheses, we have made a function for this visualistation. "
   ]
  },
  {
   "cell_type": "code",
   "execution_count": 98,
   "metadata": {},
   "outputs": [
    {
     "data": {
      "image/png": "[encoded data removed]",
      "text/plain": [
       "<Figure size 576x360 with 1 Axes>"
      ]
     },
     "metadata": {},
     "output_type": "display_data"
    }
   ],
   "source": [
    "from hypothesis_tests import make_t_dist\n",
    "make_t_dist(hy1_t, hy1_t_crit, hy1_dof, 'T-Distribution for Hypothesis 1')"
   ]
  },
  {
   "cell_type": "markdown",
   "metadata": {},
   "source": [
    "The green line on the figure above represents the T-statistic from our Welch's T-Test, and the red line represents our threshold. We have clearly crossed our threshold by quite some margin so we can comfortably reject our null hypothesis and say that there is a statistically significant difference between the number of home wins and the number of away wins in the premier league. \n",
    "\n",
    "However in order to qualify our rejection we must also look at the p-value, power and effect size for this statistical test. \n",
    "\n",
    "### Other considerations: Cohen's D and Power\n",
    "\n",
    "We calculated our p-value earlier with our T-test, however we will still need to calculate our power and our effect size, which we will do with a calculaion of Cohen's D, a way of measurin the distance between the means while acounting for uneual variance between samples."
   ]
  },
  {
   "cell_type": "code",
   "execution_count": 99,
   "metadata": {},
   "outputs": [],
   "source": [
    "from hypothesis_tests import cohen_d"
   ]
  },
  {
   "cell_type": "code",
   "execution_count": 100,
   "metadata": {},
   "outputs": [
    {
     "data": {
      "text/plain": [
       "0.5006545166628833"
      ]
     },
     "execution_count": 100,
     "metadata": {},
     "output_type": "execute_result"
    }
   ],
   "source": [
    "hy1_cohen_d = cohen_d(random_home_sample, random_away_sample) # Calculating Cohen's D\n",
    "hy1_cohen_d"
   ]
  },
  {
   "cell_type": "code",
   "execution_count": 102,
   "metadata": {},
   "outputs": [
    {
     "data": {
      "text/plain": [
       "0.8991831394122165"
      ]
     },
     "execution_count": 102,
     "metadata": {},
     "output_type": "execute_result"
    }
   ],
   "source": [
    "power_analysis = TTestIndPower() #Using Cohen's D to calculate the power of our analysis.\n",
    "hy1_power = power_analysis.solve_power(effect_size=.46, nobs1=100, alpha=.05)\n",
    "hy1_power"
   ]
  },
  {
   "cell_type": "markdown",
   "metadata": {},
   "source": [
    "### Conclusions and Limitations\n",
    "\n",
    "From the Welch's T-test, the calculated p value is 0.0007, effect size (cohen’s d) = 0.46 and power = 89.9%. As the p value is lower than the alpha (0.05) we can reject the null hypothesis. However calculating an incredibly low p-value does not guarantee that the null-hypothesis is incorrect. Therefore we calculated cohen’s d (0.46). Using the general “rule of thumb” guidelines this means there is a medium effect. The statistical power is ~90%. This high power suggest a high probability of rejecting the null hypothesis, given that it is indeed false. \n",
    "\n",
    "In conclusion, we can reject the null hypothesis as our p-value is smaller than the alpha level we set initially, there is a high statistical power and a medium effect size. We can therefore give actionable insight to our management at Bet366 that there is a considerable advantege to playing at home. \n",
    "\n",
    "There are however some limitations to our findings. Our analysis is not a regression analysis so we cannot say with any certainty just how much of a difference playing at home makes. Furthermore our sample sizes are not overly large so we could in theory obtain more data for a more thorough analysis."
   ]
  },
  {
   "cell_type": "markdown",
   "metadata": {},
   "source": [
    "## Hypothesis 2 - Older players, more minutes?"
   ]
  },
  {
   "cell_type": "markdown",
   "metadata": {},
   "source": [
    "### Introduction to Hypothesis\n",
    "\n",
    "Our initial intuition is that experience is everything. You might be a young hotshot, but a team needs experience to win games. As such we imagined that younger players would be given less time on the pitch than their older and more proven countreparts. However we could be wrong, it could be that younger, spryer players have higher levels of fitness and are therefore more likely to cope with a full 90 minute stint. This could be valuable information for Bet366, just how long will a player stay on the pitch? How will a younger team deal with going into extra time? We hope our second hypothesis can clarify our intuitions.  "
   ]
  },
  {
   "cell_type": "markdown",
   "metadata": {},
   "source": [
    "### Choosing a significance level\n",
    "\n",
    "As with above we wanted to set a standard but stringent alpha or α level of 0.05. Once again if our p-value is less than this alpha threshold we can confidently reject the null hypothesis, with at most a 5% chance of rejecting the null-hypothesis when it is actually true."
   ]
  },
  {
   "cell_type": "markdown",
   "metadata": {},
   "source": [
    "Using player data that we pulled from the footystats API, with only columns for the players' ages and the average minutes that they play per 90 minutes of game time. "
   ]
  },
  {
   "cell_type": "code",
   "execution_count": 78,
   "metadata": {
    "ExecuteTime": {
     "end_time": "2019-11-13T23:44:00.017536Z",
     "start_time": "2019-11-13T23:43:59.988930Z"
    }
   },
   "outputs": [
    {
     "data": {
      "text/html": [
       "<div>\n",
       "<style scoped>\n",
       "    .dataframe tbody tr th:only-of-type {\n",
       "        vertical-align: middle;\n",
       "    }\n",
       "\n",
       "    .dataframe tbody tr th {\n",
       "        vertical-align: top;\n",
       "    }\n",
       "\n",
       "    .dataframe thead th {\n",
       "        text-align: right;\n",
       "    }\n",
       "</style>\n",
       "<table border=\"1\" class=\"dataframe\">\n",
       "  <thead>\n",
       "    <tr style=\"text-align: right;\">\n",
       "      <th></th>\n",
       "      <th>age</th>\n",
       "      <th>min_per_match</th>\n",
       "    </tr>\n",
       "  </thead>\n",
       "  <tbody>\n",
       "    <tr>\n",
       "      <th>0</th>\n",
       "      <td>28</td>\n",
       "      <td>90</td>\n",
       "    </tr>\n",
       "    <tr>\n",
       "      <th>1</th>\n",
       "      <td>29</td>\n",
       "      <td>74</td>\n",
       "    </tr>\n",
       "    <tr>\n",
       "      <th>2</th>\n",
       "      <td>25</td>\n",
       "      <td>87</td>\n",
       "    </tr>\n",
       "    <tr>\n",
       "      <th>3</th>\n",
       "      <td>24</td>\n",
       "      <td>89</td>\n",
       "    </tr>\n",
       "    <tr>\n",
       "      <th>4</th>\n",
       "      <td>25</td>\n",
       "      <td>53</td>\n",
       "    </tr>\n",
       "  </tbody>\n",
       "</table>\n",
       "</div>"
      ],
      "text/plain": [
       "   age  min_per_match\n",
       "0   28             90\n",
       "1   29             74\n",
       "2   25             87\n",
       "3   24             89\n",
       "4   25             53"
      ]
     },
     "execution_count": 78,
     "metadata": {},
     "output_type": "execute_result"
    }
   ],
   "source": [
    "# importing dataframe with age and minutes per match columns\n",
    "age_min=pd.read_csv('football_players_age_and_minutes.csv')\n",
    "age_min.head()"
   ]
  },
  {
   "cell_type": "markdown",
   "metadata": {},
   "source": [
    "We then take the mean of the players' ages, such that any players with an age below this average are considered younger and any above the average are considered older. We then make a new column with binary values in which older players are represented by 1 and younger players are represented by 0."
   ]
  },
  {
   "cell_type": "code",
   "execution_count": 118,
   "metadata": {
    "ExecuteTime": {
     "end_time": "2019-11-13T23:44:00.025355Z",
     "start_time": "2019-11-13T23:44:00.020343Z"
    }
   },
   "outputs": [],
   "source": [
    "# computing the players age mean\n",
    "age_mean=round(age_min['age'].mean(),0)"
   ]
  },
  {
   "cell_type": "code",
   "execution_count": 119,
   "metadata": {
    "ExecuteTime": {
     "end_time": "2019-11-13T23:44:00.062176Z",
     "start_time": "2019-11-13T23:44:00.033375Z"
    }
   },
   "outputs": [
    {
     "data": {
      "text/html": [
       "<div>\n",
       "<style scoped>\n",
       "    .dataframe tbody tr th:only-of-type {\n",
       "        vertical-align: middle;\n",
       "    }\n",
       "\n",
       "    .dataframe tbody tr th {\n",
       "        vertical-align: top;\n",
       "    }\n",
       "\n",
       "    .dataframe thead th {\n",
       "        text-align: right;\n",
       "    }\n",
       "</style>\n",
       "<table border=\"1\" class=\"dataframe\">\n",
       "  <thead>\n",
       "    <tr style=\"text-align: right;\">\n",
       "      <th></th>\n",
       "      <th>age</th>\n",
       "      <th>min_per_match</th>\n",
       "      <th>age_category</th>\n",
       "    </tr>\n",
       "  </thead>\n",
       "  <tbody>\n",
       "    <tr>\n",
       "      <th>0</th>\n",
       "      <td>28</td>\n",
       "      <td>90</td>\n",
       "      <td>1</td>\n",
       "    </tr>\n",
       "    <tr>\n",
       "      <th>1</th>\n",
       "      <td>29</td>\n",
       "      <td>74</td>\n",
       "      <td>1</td>\n",
       "    </tr>\n",
       "    <tr>\n",
       "      <th>2</th>\n",
       "      <td>25</td>\n",
       "      <td>87</td>\n",
       "      <td>0</td>\n",
       "    </tr>\n",
       "    <tr>\n",
       "      <th>3</th>\n",
       "      <td>24</td>\n",
       "      <td>89</td>\n",
       "      <td>0</td>\n",
       "    </tr>\n",
       "    <tr>\n",
       "      <th>4</th>\n",
       "      <td>25</td>\n",
       "      <td>53</td>\n",
       "      <td>0</td>\n",
       "    </tr>\n",
       "  </tbody>\n",
       "</table>\n",
       "</div>"
      ],
      "text/plain": [
       "   age  min_per_match  age_category\n",
       "0   28             90             1\n",
       "1   29             74             1\n",
       "2   25             87             0\n",
       "3   24             89             0\n",
       "4   25             53             0"
      ]
     },
     "execution_count": 119,
     "metadata": {},
     "output_type": "execute_result"
    }
   ],
   "source": [
    "# creating a new column with the categorized values 0 and 1 which means young and old respectively\n",
    "age_min['age_category']=age_min['age'].apply(lambda x: 1 if x >= age_mean else 0 )\n",
    "age_min.head()"
   ]
  },
  {
   "cell_type": "code",
   "execution_count": 120,
   "metadata": {
    "ExecuteTime": {
     "end_time": "2019-11-13T23:44:00.092348Z",
     "start_time": "2019-11-13T23:44:00.072311Z"
    }
   },
   "outputs": [
    {
     "name": "stdout",
     "output_type": "stream",
     "text": [
      "284 216\n"
     ]
    }
   ],
   "source": [
    "# counting the young and old players, which signify the populations of young and old players\n",
    "old=age_min.loc[age_min['age_category']==1]\n",
    "young=age_min.loc[age_min['age_category']==0]\n",
    "print(len(old), len(young))"
   ]
  },
  {
   "cell_type": "markdown",
   "metadata": {},
   "source": [
    "Seeing that the groups are not equal we decided that we could take a random sample of 100 players from each of the groups, with their associated average minutes played."
   ]
  },
  {
   "cell_type": "code",
   "execution_count": 128,
   "metadata": {
    "ExecuteTime": {
     "end_time": "2019-11-13T23:44:00.115387Z",
     "start_time": "2019-11-13T23:44:00.097156Z"
    }
   },
   "outputs": [],
   "source": [
    "# sampling an equal size of samples from both the young and old populations\n",
    "sample_old_min=sampling(old, 100, 'min_per_match',1)\n",
    "sample_young_min=sampling(young, 100, 'min_per_match', 1)"
   ]
  },
  {
   "cell_type": "code",
   "execution_count": 138,
   "metadata": {
    "ExecuteTime": {
     "end_time": "2019-11-14T00:00:47.310642Z",
     "start_time": "2019-11-14T00:00:47.054692Z"
    }
   },
   "outputs": [
    {
     "data": {
      "image/png": "[encoded data removed]",
      "text/plain": [
       "<Figure size 800x560 with 1 Axes>"
      ]
     },
     "metadata": {},
     "output_type": "display_data"
    }
   ],
   "source": [
    "from visualizations import overlapping_density\n",
    "overlapping_density(sample_old_min, sample_young_min, 'old players', 'young players', 'Distribution of minutes played by older and younger players')"
   ]
  },
  {
   "cell_type": "markdown",
   "metadata": {},
   "source": [
    "Above we have the distributions for young and old players based on minutes played per match.\n",
    "We assume that the sample mean of older players is bigger than the sample mean for younger players.\n",
    "Considering the same variancy and size of the samples, we will use the Two samples T-test in order to verify the probability of random occurence in these samples. "
   ]
  },
  {
   "cell_type": "code",
   "execution_count": 139,
   "metadata": {},
   "outputs": [
    {
     "name": "stdout",
     "output_type": "stream",
     "text": [
      "1019.4524000000004 643.6090999999998\n"
     ]
    }
   ],
   "source": [
    "print(np.var(sample_young_min), np.var(sample_old_min))"
   ]
  },
  {
   "cell_type": "markdown",
   "metadata": {},
   "source": [
    "### Welch's T-Test, our consistent friend\n",
    "\n",
    "Throughout our analysis we will be coming back to the Welch's T-Test because none of our random samples have the same variance. The variance of the sample of younger players is 1019 wheareas the variance of our older players is around 643. \n",
    "\n",
    "Although the distributions for these players are getting closer to normal than the previous distribution, the Welch's T-Test is best placed to deal with the peaks present at 90 and 0 minutes. "
   ]
  },
  {
   "cell_type": "code",
   "execution_count": 140,
   "metadata": {
    "ExecuteTime": {
     "end_time": "2019-11-14T00:32:10.620712Z",
     "start_time": "2019-11-14T00:32:10.612410Z"
    }
   },
   "outputs": [
    {
     "data": {
      "text/plain": [
       "2.979059013158594"
      ]
     },
     "execution_count": 140,
     "metadata": {},
     "output_type": "execute_result"
    }
   ],
   "source": [
    "hy2_test=stats.ttest_ind(sample_old_min, sample_young_min)\n",
    "hy2_t = hy2_test.statistic\n",
    "hy2_p = hy2_test.pvalue\n",
    "hy2_t"
   ]
  },
  {
   "cell_type": "markdown",
   "metadata": {
    "ExecuteTime": {
     "end_time": "2019-11-14T00:37:45.410487Z",
     "start_time": "2019-11-14T00:37:45.402799Z"
    }
   },
   "source": [
    "Again we calculate our degrees of freedom with the Welch-Satterthwaite test, so that we can use this to compute our critical T-Value"
   ]
  },
  {
   "cell_type": "code",
   "execution_count": 125,
   "metadata": {
    "ExecuteTime": {
     "end_time": "2019-11-14T00:37:58.337827Z",
     "start_time": "2019-11-14T00:37:58.330319Z"
    }
   },
   "outputs": [
    {
     "data": {
      "text/plain": [
       "188.37880444026584"
      ]
     },
     "execution_count": 125,
     "metadata": {},
     "output_type": "execute_result"
    }
   ],
   "source": [
    "df1=fn.welch_dof(sample_young_min,sample_old_min)\n",
    "df1"
   ]
  },
  {
   "cell_type": "code",
   "execution_count": 126,
   "metadata": {
    "ExecuteTime": {
     "end_time": "2019-11-13T23:44:00.571889Z",
     "start_time": "2019-11-13T23:44:00.564725Z"
    }
   },
   "outputs": [],
   "source": [
    "t_critical1=1.653"
   ]
  },
  {
   "cell_type": "code",
   "execution_count": 12,
   "metadata": {
    "ExecuteTime": {
     "end_time": "2019-11-13T23:44:00.999953Z",
     "start_time": "2019-11-13T23:44:00.576862Z"
    }
   },
   "outputs": [
    {
     "data": {
      "image/png": "[encoded data removed]",
      "text/plain": [
       "<Figure size 576x360 with 1 Axes>"
      ]
     },
     "metadata": {
      "needs_background": "light"
     },
     "output_type": "display_data"
    }
   ],
   "source": [
    "fn.make_t_dist(t1, t_critical1, df1, 'H2')"
   ]
  },
  {
   "cell_type": "code",
   "execution_count": 14,
   "metadata": {
    "ExecuteTime": {
     "end_time": "2019-11-13T23:44:25.949313Z",
     "start_time": "2019-11-13T23:44:25.940366Z"
    }
   },
   "outputs": [
    {
     "data": {
      "text/plain": [
       "0.42130256595186927"
      ]
     },
     "execution_count": 14,
     "metadata": {},
     "output_type": "execute_result"
    }
   ],
   "source": [
    "fn.Cohen_d(sample_old_min, sample_young_min)"
   ]
  },
  {
   "cell_type": "markdown",
   "metadata": {},
   "source": []
  },
  {
   "cell_type": "code",
   "execution_count": null,
   "metadata": {},
   "outputs": [],
   "source": []
  },
  {
   "cell_type": "code",
   "execution_count": null,
   "metadata": {},
   "outputs": [],
   "source": []
  },
  {
   "cell_type": "code",
   "execution_count": null,
   "metadata": {},
   "outputs": [],
   "source": []
  },
  {
   "cell_type": "code",
   "execution_count": 18,
   "metadata": {
    "ExecuteTime": {
     "end_time": "2019-11-13T23:45:48.347156Z",
     "start_time": "2019-11-13T23:45:48.332693Z"
    }
   },
   "outputs": [
    {
     "data": {
      "text/html": [
       "<div>\n",
       "<style scoped>\n",
       "    .dataframe tbody tr th:only-of-type {\n",
       "        vertical-align: middle;\n",
       "    }\n",
       "\n",
       "    .dataframe tbody tr th {\n",
       "        vertical-align: top;\n",
       "    }\n",
       "\n",
       "    .dataframe thead th {\n",
       "        text-align: right;\n",
       "    }\n",
       "</style>\n",
       "<table border=\"1\" class=\"dataframe\">\n",
       "  <thead>\n",
       "    <tr style=\"text-align: right;\">\n",
       "      <th></th>\n",
       "      <th>nationality</th>\n",
       "      <th>goals_overall</th>\n",
       "      <th>position</th>\n",
       "    </tr>\n",
       "  </thead>\n",
       "  <tbody>\n",
       "    <tr>\n",
       "      <th>0</th>\n",
       "      <td>Spain</td>\n",
       "      <td>0</td>\n",
       "      <td>Goalkeeper</td>\n",
       "    </tr>\n",
       "    <tr>\n",
       "      <th>1</th>\n",
       "      <td>Italy</td>\n",
       "      <td>0</td>\n",
       "      <td>Defender</td>\n",
       "    </tr>\n",
       "    <tr>\n",
       "      <th>2</th>\n",
       "      <td>Sweden</td>\n",
       "      <td>1</td>\n",
       "      <td>Defender</td>\n",
       "    </tr>\n",
       "    <tr>\n",
       "      <th>3</th>\n",
       "      <td>England</td>\n",
       "      <td>1</td>\n",
       "      <td>Defender</td>\n",
       "    </tr>\n",
       "    <tr>\n",
       "      <th>4</th>\n",
       "      <td>Côte d'Ivoire</td>\n",
       "      <td>0</td>\n",
       "      <td>Defender</td>\n",
       "    </tr>\n",
       "  </tbody>\n",
       "</table>\n",
       "</div>"
      ],
      "text/plain": [
       "     nationality  goals_overall    position\n",
       "0          Spain              0  Goalkeeper\n",
       "1          Italy              0    Defender\n",
       "2         Sweden              1    Defender\n",
       "3        England              1    Defender\n",
       "4  Côte d'Ivoire              0    Defender"
      ]
     },
     "execution_count": 18,
     "metadata": {},
     "output_type": "execute_result"
    }
   ],
   "source": [
    "national_performance=pd.read_csv('football_players_by_nationality_and_goals.csv')\n",
    "national_performance.head()"
   ]
  },
  {
   "cell_type": "code",
   "execution_count": 19,
   "metadata": {
    "ExecuteTime": {
     "end_time": "2019-11-13T23:45:49.580592Z",
     "start_time": "2019-11-13T23:45:49.571796Z"
    }
   },
   "outputs": [],
   "source": [
    "national=national_performance.loc[national_performance['nationality']=='England']\n",
    "national_pos=national.loc[(national['position']=='Midfielder')|(national['position']=='Forward')]\n",
    "foreign=national_performance.loc[national_performance['nationality']!='England']\n",
    "foreign_pos=foreign.loc[(foreign['position']=='Midfielder')|(foreign['position']=='Forward')]"
   ]
  },
  {
   "cell_type": "code",
   "execution_count": 20,
   "metadata": {
    "ExecuteTime": {
     "end_time": "2019-11-13T23:45:50.609144Z",
     "start_time": "2019-11-13T23:45:50.603555Z"
    }
   },
   "outputs": [
    {
     "name": "stdout",
     "output_type": "stream",
     "text": [
      "90 186\n"
     ]
    }
   ],
   "source": [
    "print(len(national_pos), len(foreign_pos))"
   ]
  },
  {
   "cell_type": "code",
   "execution_count": 25,
   "metadata": {
    "ExecuteTime": {
     "end_time": "2019-11-13T23:46:41.589073Z",
     "start_time": "2019-11-13T23:46:41.580754Z"
    }
   },
   "outputs": [],
   "source": [
    "sample_nat_goals=fn.sampling_selecting(national_pos, 60, 'goals_overall')\n",
    "sample_for_goals=fn.sampling_selecting(foreign_pos, 60, 'goals_overall')"
   ]
  },
  {
   "cell_type": "code",
   "execution_count": 49,
   "metadata": {
    "ExecuteTime": {
     "end_time": "2019-11-14T00:01:16.554253Z",
     "start_time": "2019-11-14T00:01:16.301183Z"
    }
   },
   "outputs": [
    {
     "name": "stderr",
     "output_type": "stream",
     "text": [
      "//anaconda3/envs/learn-env/lib/python3.6/site-packages/scipy/stats/stats.py:1713: FutureWarning: Using a non-tuple sequence for multidimensional indexing is deprecated; use `arr[tuple(seq)]` instead of `arr[seq]`. In the future this will be interpreted as an array index, `arr[np.array(seq)]`, which will result either in an error or a different result.\n",
      "  return np.add.reduce(sorted[indexer] * weights, axis=axis) / sumval\n"
     ]
    },
    {
     "data": {
      "text/plain": [
       "Text(0.5, 1.0, 'The frequency of goals from english and foreign players')"
      ]
     },
     "execution_count": 49,
     "metadata": {},
     "output_type": "execute_result"
    },
    {
     "data": {
      "image/png": "[encoded data removed]",
      "text/plain": [
       "<Figure size 720x504 with 1 Axes>"
      ]
     },
     "metadata": {},
     "output_type": "display_data"
    }
   ],
   "source": [
    "sns.set(color_codes=True)\n",
    "sns.set(rc={'figure.figsize':(10,7)})\n",
    "sns.distplot(sample_nat_goals, hist=False, kde_kws={\"shade\": True}, label='English players')\n",
    "sns.distplot(sample_for_goals, hist=False, kde_kws={\"shade\": True}, label='Foreign players') \n",
    "plt.legend()\n",
    "plt.title('The frequency of goals from english and foreign players')"
   ]
  },
  {
   "cell_type": "code",
   "execution_count": 27,
   "metadata": {
    "ExecuteTime": {
     "end_time": "2019-11-13T23:46:46.313495Z",
     "start_time": "2019-11-13T23:46:46.308717Z"
    }
   },
   "outputs": [],
   "source": [
    "tt_results = stats.ttest_ind(sample_nat_goals, sample_for_goals, equal_var=False)"
   ]
  },
  {
   "cell_type": "code",
   "execution_count": 28,
   "metadata": {
    "ExecuteTime": {
     "end_time": "2019-11-13T23:46:48.323437Z",
     "start_time": "2019-11-13T23:46:48.318858Z"
    }
   },
   "outputs": [],
   "source": [
    "t = tt_results.statistic"
   ]
  },
  {
   "cell_type": "code",
   "execution_count": 30,
   "metadata": {
    "ExecuteTime": {
     "end_time": "2019-11-13T23:46:56.692860Z",
     "start_time": "2019-11-13T23:46:56.688476Z"
    }
   },
   "outputs": [],
   "source": [
    "df = fn.welch_dof(sample_nat_goals,sample_for_goals)"
   ]
  },
  {
   "cell_type": "code",
   "execution_count": 31,
   "metadata": {
    "ExecuteTime": {
     "end_time": "2019-11-13T23:46:58.932284Z",
     "start_time": "2019-11-13T23:46:58.928125Z"
    }
   },
   "outputs": [],
   "source": [
    "t_critical = 1.658"
   ]
  },
  {
   "cell_type": "code",
   "execution_count": 32,
   "metadata": {
    "ExecuteTime": {
     "end_time": "2019-11-13T23:47:00.294417Z",
     "start_time": "2019-11-13T23:47:00.116189Z"
    }
   },
   "outputs": [
    {
     "data": {
      "image/png": "[encoded data removed]",
      "text/plain": [
       "<Figure size 576x360 with 1 Axes>"
      ]
     },
     "metadata": {},
     "output_type": "display_data"
    }
   ],
   "source": [
    "fn.make_t_dist(t, t_critical, df, 'H4')"
   ]
  },
  {
   "cell_type": "code",
   "execution_count": 34,
   "metadata": {
    "ExecuteTime": {
     "end_time": "2019-11-13T23:47:19.179299Z",
     "start_time": "2019-11-13T23:47:19.170871Z"
    }
   },
   "outputs": [
    {
     "data": {
      "text/plain": [
       "-0.08705906270078691"
      ]
     },
     "execution_count": 34,
     "metadata": {},
     "output_type": "execute_result"
    }
   ],
   "source": [
    "fn.Cohen_d(sample_for_goals, sample_nat_goals)"
   ]
  },
  {
   "cell_type": "markdown",
   "metadata": {},
   "source": [
    "#### Findings & Application"
   ]
  },
  {
   "cell_type": "code",
   "execution_count": null,
   "metadata": {
    "ExecuteTime": {
     "end_time": "2019-11-12T17:18:43.788576Z",
     "start_time": "2019-11-12T17:18:43.779189Z"
    }
   },
   "outputs": [],
   "source": []
  },
  {
   "cell_type": "markdown",
   "metadata": {},
   "source": [
    "#### Limitations"
   ]
  },
  {
   "cell_type": "code",
   "execution_count": null,
   "metadata": {},
   "outputs": [],
   "source": []
  },
  {
   "cell_type": "markdown",
   "metadata": {},
   "source": [
    "#### Next Steps"
   ]
  },
  {
   "cell_type": "code",
   "execution_count": null,
   "metadata": {},
   "outputs": [],
   "source": []
  }
 ],
 "metadata": {
  "kernelspec": {
   "display_name": "Python 3",
   "language": "python",
   "name": "python3"
  },
  "language_info": {
   "codemirror_mode": {
    "name": "ipython",
    "version": 3
   },
   "file_extension": ".py",
   "mimetype": "text/x-python",
   "name": "python",
   "nbconvert_exporter": "python",
   "pygments_lexer": "ipython3",
   "version": "3.7.3"
  },
  "toc": {
   "base_numbering": 1,
   "nav_menu": {},
   "number_sections": true,
   "sideBar": true,
   "skip_h1_title": false,
   "title_cell": "Table of Contents",
   "title_sidebar": "Contents",
   "toc_cell": false,
   "toc_position": {},
   "toc_section_display": true,
   "toc_window_display": false
  },
  "varInspector": {
   "cols": {
    "lenName": 16,
    "lenType": 16,
    "lenVar": 40
   },
   "kernels_config": {
    "python": {
     "delete_cmd_postfix": "",
     "delete_cmd_prefix": "del ",
     "library": "var_list.py",
     "varRefreshCmd": "print(var_dic_list())"
    },
    "r": {
     "delete_cmd_postfix": ") ",
     "delete_cmd_prefix": "rm(",
     "library": "var_list.r",
     "varRefreshCmd": "cat(var_dic_list()) "
    }
   },
   "types_to_exclude": [
    "module",
    "function",
    "builtin_function_or_method",
    "instance",
    "_Feature"
   ],
   "window_display": false
  }
 },
 "nbformat": 4,
 "nbformat_minor": 4
}
