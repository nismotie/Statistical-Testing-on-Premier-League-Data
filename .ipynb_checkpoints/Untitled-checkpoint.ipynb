{
 "cells": [
  {
   "cell_type": "code",
   "execution_count": 9,
   "metadata": {},
   "outputs": [],
   "source": [
    "import requests"
   ]
  },
  {
   "cell_type": "code",
   "execution_count": 12,
   "metadata": {},
   "outputs": [],
   "source": [
    "import json\n",
    "\n",
    "# response = requests.get('https://api.footystats.org/league-players?key=example&league_id=1625')\n",
    "r = response.json()"
   ]
  },
  {
   "cell_type": "code",
   "execution_count": 20,
   "metadata": {},
   "outputs": [
    {
     "name": "stdout",
     "output_type": "stream",
     "text": [
      "{'id': 463545, 'competition_id': 1625, 'full_name': 'David de Gea Quintana', 'first_name': 'David', 'last_name': 'de Gea Quintana', 'known_as': 'David de Gea', 'shorthand': 'david-de-gea', 'age': 28, 'league': 'Premier League', 'league_type': 'Domestic League', 'season': '2018/2019', 'starting_year': 2018, 'ending_year': 2019, 'url': 'https://footystats.org/players/spain/david-de-gea', 'club_team_id': 149, 'club_team_2_id': -1, 'national_team_id': -1, 'position': 'Goalkeeper', 'minutes_played_overall': 3420, 'minutes_played_home': 1710, 'minutes_played_away': 1710, 'birthday': 657964800, 'nationality': 'Spain', 'continent': 'eu', 'appearances_overall': 38, 'appearances_home': 19, 'appearances_away': 19, 'goals_overall': 0, 'goals_home': 0, 'goals_away': 0, 'clean_sheets_home': 2, 'clean_sheets_away': 5, 'clean_sheets_overall': 7, 'conceded_overall': 51, 'conceded_home': 23, 'conceded_away': 28, 'assists_overall': 0, 'assists_home': 0, 'assists_away': 0, 'penalty_goals': 0, 'penalty_misses': 0, 'penalty_success': -1, 'goals_involved_per_90_overall': 0, 'assists_per_90_overall': 0, 'goals_per_90_overall': 0, 'clean_sheets_per_overall': 18, 'goals_per_90_home': 0, 'goals_per_90_away': 0, 'min_per_goal_overall': 0, 'conceded_per_90_overall': 1, 'min_per_conceded_overall': 67, 'cards_overall': 1, 'yellow_cards_overall': 1, 'red_cards_overall': 0, 'min_per_match': 90, 'min_per_card_overall': 3420, 'min_per_assist_overall': 0, 'cards_per_90_overall': 0.03, 'rank_in_league_top_attackers': 310, 'rank_in_league_top_midfielders': 419, 'rank_in_league_top_defenders': 90, 'rank_in_club_top_scorer': 18, 'last_match_timestamp': 1557669600}\n"
     ]
    }
   ],
   "source": [
    "print(r['data'][0])"
   ]
  },
  {
   "cell_type": "code",
   "execution_count": 2,
   "metadata": {},
   "outputs": [],
   "source": [
    "import pandas as pd"
   ]
  },
  {
   "cell_type": "code",
   "execution_count": 3,
   "metadata": {},
   "outputs": [],
   "source": [
    "df = pd.read_csv('season-1819_csv.csv')"
   ]
  },
  {
   "cell_type": "code",
   "execution_count": 7,
   "metadata": {},
   "outputs": [
    {
     "data": {
      "text/plain": [
       "Div         0\n",
       "Date        0\n",
       "HomeTeam    0\n",
       "AwayTeam    0\n",
       "FTHG        0\n",
       "FTAG        0\n",
       "FTR         0\n",
       "HTHG        0\n",
       "HTAG        0\n",
       "HTR         0\n",
       "Referee     0\n",
       "HS          0\n",
       "AS          0\n",
       "HST         0\n",
       "AST         0\n",
       "HF          0\n",
       "AF          0\n",
       "HC          0\n",
       "AC          0\n",
       "HY          0\n",
       "AY          0\n",
       "HR          0\n",
       "AR          0\n",
       "B365H       0\n",
       "B365D       0\n",
       "B365A       0\n",
       "BWH         0\n",
       "BWD         0\n",
       "BWA         0\n",
       "IWH         0\n",
       "           ..\n",
       "PSH         0\n",
       "PSD         0\n",
       "PSA         0\n",
       "WHH         0\n",
       "WHD         0\n",
       "WHA         0\n",
       "VCH         0\n",
       "VCD         0\n",
       "VCA         0\n",
       "Bb1X2       0\n",
       "BbMxH       0\n",
       "BbAvH       0\n",
       "BbMxD       0\n",
       "BbAvD       0\n",
       "BbMxA       0\n",
       "BbAvA       0\n",
       "BbOU        0\n",
       "BbMx>2.5    0\n",
       "BbAv>2.5    0\n",
       "BbMx<2.5    0\n",
       "BbAv<2.5    0\n",
       "BbAH        0\n",
       "BbAHh       0\n",
       "BbMxAHH     0\n",
       "BbAvAHH     0\n",
       "BbMxAHA     0\n",
       "BbAvAHA     0\n",
       "PSCH        0\n",
       "PSCD        0\n",
       "PSCA        0\n",
       "Length: 62, dtype: int64"
      ]
     },
     "execution_count": 7,
     "metadata": {},
     "output_type": "execute_result"
    }
   ],
   "source": [
    "df.isna().sum()"
   ]
  },
  {
   "cell_type": "code",
   "execution_count": null,
   "metadata": {},
   "outputs": [],
   "source": []
  }
 ],
 "metadata": {
  "kernelspec": {
   "display_name": "Python 3",
   "language": "python",
   "name": "python3"
  },
  "language_info": {
   "codemirror_mode": {
    "name": "ipython",
    "version": 3
   },
   "file_extension": ".py",
   "mimetype": "text/x-python",
   "name": "python",
   "nbconvert_exporter": "python",
   "pygments_lexer": "ipython3",
   "version": "3.7.3"
  }
 },
 "nbformat": 4,
 "nbformat_minor": 4
}
